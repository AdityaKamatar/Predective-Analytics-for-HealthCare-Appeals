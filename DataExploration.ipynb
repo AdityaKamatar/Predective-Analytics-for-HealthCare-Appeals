{
 "cells": [
  {
   "cell_type": "code",
   "execution_count": 1,
   "metadata": {},
   "outputs": [],
   "source": [
    "import pandas as pd\n",
    "import numpy as np\n",
    "import matplotlib.pyplot as plt"
   ]
  },
  {
   "cell_type": "code",
   "execution_count": 2,
   "metadata": {},
   "outputs": [
    {
     "name": "stderr",
     "output_type": "stream",
     "text": [
      "/anaconda3/lib/python3.7/site-packages/IPython/core/interactiveshell.py:3020: DtypeWarning: Columns (2) have mixed types. Specify dtype option on import or set low_memory=False.\n",
      "  interactivity=interactivity, compiler=compiler, result=result)\n"
     ]
    }
   ],
   "source": [
    "OrginalDataFrame = pd.read_csv('2011_to_2012.csv',sep=',',parse_dates=['Received_Date','Decision_Letter_Mailed_Date','Hearing_Completed_Date'],dayfirst=True)"
   ]
  },
  {
   "cell_type": "code",
   "execution_count": 3,
   "metadata": {},
   "outputs": [],
   "source": [
    "df = OrginalDataFrame"
   ]
  },
  {
   "cell_type": "markdown",
   "metadata": {},
   "source": [
    "Pre-Auth and Appeals Context"
   ]
  },
  {
   "cell_type": "code",
   "execution_count": 6,
   "metadata": {},
   "outputs": [
    {
     "data": {
      "text/html": [
       "<div>\n",
       "<style scoped>\n",
       "    .dataframe tbody tr th:only-of-type {\n",
       "        vertical-align: middle;\n",
       "    }\n",
       "\n",
       "    .dataframe tbody tr th {\n",
       "        vertical-align: top;\n",
       "    }\n",
       "\n",
       "    .dataframe thead th {\n",
       "        text-align: right;\n",
       "    }\n",
       "</style>\n",
       "<table border=\"1\" class=\"dataframe\">\n",
       "  <thead>\n",
       "    <tr style=\"text-align: right;\">\n",
       "      <th></th>\n",
       "      <th>FY</th>\n",
       "      <th>ALJ Number</th>\n",
       "      <th>Claims</th>\n",
       "      <th>Received_Date</th>\n",
       "      <th>Request Type</th>\n",
       "      <th>Appeal Category</th>\n",
       "      <th>Medicare Part</th>\n",
       "      <th>Requestor Type</th>\n",
       "      <th>State</th>\n",
       "      <th>OTR</th>\n",
       "      <th>PSC/\r\n",
       "ZPIC</th>\n",
       "      <th>RAC</th>\n",
       "      <th>Hearing_Completed_Date</th>\n",
       "      <th>Hearing Type</th>\n",
       "      <th>Hearing Format</th>\n",
       "      <th>Decision_Letter_Mailed_Date</th>\n",
       "      <th>Disposition</th>\n",
       "      <th>Appeal Status</th>\n",
       "      <th>Procedure Code</th>\n",
       "      <th>Procedure Description</th>\n",
       "    </tr>\n",
       "  </thead>\n",
       "  <tbody>\n",
       "    <tr>\n",
       "      <th>0</th>\n",
       "      <td>2011</td>\n",
       "      <td>1-1000575076</td>\n",
       "      <td>1</td>\n",
       "      <td>2011-06-27</td>\n",
       "      <td>Mail</td>\n",
       "      <td>DME</td>\n",
       "      <td>Part B</td>\n",
       "      <td>Provider</td>\n",
       "      <td>FL</td>\n",
       "      <td>Yes</td>\n",
       "      <td>No</td>\n",
       "      <td>No</td>\n",
       "      <td>NaT</td>\n",
       "      <td>No Hearing</td>\n",
       "      <td>NaN</td>\n",
       "      <td>2012-06-07</td>\n",
       "      <td>Favorable</td>\n",
       "      <td>Closed</td>\n",
       "      <td>A4235</td>\n",
       "      <td>Lithium batt for glucose mon</td>\n",
       "    </tr>\n",
       "    <tr>\n",
       "      <th>1</th>\n",
       "      <td>2011</td>\n",
       "      <td>1-1000575076</td>\n",
       "      <td>1</td>\n",
       "      <td>2011-06-27</td>\n",
       "      <td>Mail</td>\n",
       "      <td>DME</td>\n",
       "      <td>Part B</td>\n",
       "      <td>Provider</td>\n",
       "      <td>FL</td>\n",
       "      <td>Yes</td>\n",
       "      <td>No</td>\n",
       "      <td>No</td>\n",
       "      <td>NaT</td>\n",
       "      <td>No Hearing</td>\n",
       "      <td>NaN</td>\n",
       "      <td>2012-06-07</td>\n",
       "      <td>Favorable</td>\n",
       "      <td>Closed</td>\n",
       "      <td>A4253</td>\n",
       "      <td>Blood glucose/reagent strips</td>\n",
       "    </tr>\n",
       "    <tr>\n",
       "      <th>2</th>\n",
       "      <td>2011</td>\n",
       "      <td>1-1000575076</td>\n",
       "      <td>1</td>\n",
       "      <td>2011-06-27</td>\n",
       "      <td>Mail</td>\n",
       "      <td>DME</td>\n",
       "      <td>Part B</td>\n",
       "      <td>Provider</td>\n",
       "      <td>FL</td>\n",
       "      <td>Yes</td>\n",
       "      <td>No</td>\n",
       "      <td>No</td>\n",
       "      <td>NaT</td>\n",
       "      <td>No Hearing</td>\n",
       "      <td>NaN</td>\n",
       "      <td>2012-06-07</td>\n",
       "      <td>Favorable</td>\n",
       "      <td>Closed</td>\n",
       "      <td>A4259</td>\n",
       "      <td>Lancets per box</td>\n",
       "    </tr>\n",
       "    <tr>\n",
       "      <th>3</th>\n",
       "      <td>2011</td>\n",
       "      <td>1-1000582044</td>\n",
       "      <td>1</td>\n",
       "      <td>2011-06-20</td>\n",
       "      <td>Mail</td>\n",
       "      <td>DME</td>\n",
       "      <td>Part B</td>\n",
       "      <td>Provider</td>\n",
       "      <td>PA</td>\n",
       "      <td>Yes</td>\n",
       "      <td>No</td>\n",
       "      <td>No</td>\n",
       "      <td>NaT</td>\n",
       "      <td>No Hearing</td>\n",
       "      <td>NaN</td>\n",
       "      <td>2012-11-07</td>\n",
       "      <td>Favorable</td>\n",
       "      <td>Closed</td>\n",
       "      <td>E0652</td>\n",
       "      <td>Pneum compres w/cal pressure</td>\n",
       "    </tr>\n",
       "    <tr>\n",
       "      <th>4</th>\n",
       "      <td>2011</td>\n",
       "      <td>1-1001985171</td>\n",
       "      <td>1</td>\n",
       "      <td>2011-05-31</td>\n",
       "      <td>Mail</td>\n",
       "      <td>DME</td>\n",
       "      <td>Part B</td>\n",
       "      <td>Provider</td>\n",
       "      <td>FL</td>\n",
       "      <td>No</td>\n",
       "      <td>No</td>\n",
       "      <td>No</td>\n",
       "      <td>2012-05-09</td>\n",
       "      <td>Hearing</td>\n",
       "      <td>Phone</td>\n",
       "      <td>2012-09-24</td>\n",
       "      <td>Partially Favorable</td>\n",
       "      <td>Closed</td>\n",
       "      <td>A4253</td>\n",
       "      <td>Blood glucose/reagent strips</td>\n",
       "    </tr>\n",
       "  </tbody>\n",
       "</table>\n",
       "</div>"
      ],
      "text/plain": [
       "     FY    ALJ Number Claims Received_Date Request Type Appeal Category  \\\n",
       "0  2011  1-1000575076      1    2011-06-27         Mail             DME   \n",
       "1  2011  1-1000575076      1    2011-06-27         Mail             DME   \n",
       "2  2011  1-1000575076      1    2011-06-27         Mail             DME   \n",
       "3  2011  1-1000582044      1    2011-06-20         Mail             DME   \n",
       "4  2011  1-1001985171      1    2011-05-31         Mail             DME   \n",
       "\n",
       "  Medicare Part Requestor Type State  OTR PSC/\\r\\nZPIC RAC  \\\n",
       "0        Part B       Provider    FL  Yes           No  No   \n",
       "1        Part B       Provider    FL  Yes           No  No   \n",
       "2        Part B       Provider    FL  Yes           No  No   \n",
       "3        Part B       Provider    PA  Yes           No  No   \n",
       "4        Part B       Provider    FL   No           No  No   \n",
       "\n",
       "  Hearing_Completed_Date Hearing Type Hearing Format  \\\n",
       "0                    NaT   No Hearing            NaN   \n",
       "1                    NaT   No Hearing            NaN   \n",
       "2                    NaT   No Hearing            NaN   \n",
       "3                    NaT   No Hearing            NaN   \n",
       "4             2012-05-09      Hearing          Phone   \n",
       "\n",
       "  Decision_Letter_Mailed_Date          Disposition Appeal Status  \\\n",
       "0                  2012-06-07            Favorable        Closed   \n",
       "1                  2012-06-07            Favorable        Closed   \n",
       "2                  2012-06-07            Favorable        Closed   \n",
       "3                  2012-11-07            Favorable        Closed   \n",
       "4                  2012-09-24  Partially Favorable        Closed   \n",
       "\n",
       "  Procedure Code         Procedure Description  \n",
       "0          A4235  Lithium batt for glucose mon  \n",
       "1          A4253  Blood glucose/reagent strips  \n",
       "2          A4259               Lancets per box  \n",
       "3          E0652  Pneum compres w/cal pressure  \n",
       "4          A4253  Blood glucose/reagent strips  "
      ]
     },
     "execution_count": 6,
     "metadata": {},
     "output_type": "execute_result"
    }
   ],
   "source": [
    "df.head(5)"
   ]
  },
  {
   "cell_type": "code",
   "execution_count": 7,
   "metadata": {},
   "outputs": [
    {
     "data": {
      "text/plain": [
       "Index(['FY', 'ALJ Number', 'Claims', 'Received_Date', 'Request Type',\n",
       "       'Appeal Category', 'Medicare Part', 'Requestor Type', 'State', 'OTR',\n",
       "       'PSC/\\r\\nZPIC', 'RAC', 'Hearing_Completed_Date', 'Hearing Type',\n",
       "       'Hearing Format', 'Decision_Letter_Mailed_Date', 'Disposition',\n",
       "       'Appeal Status', 'Procedure Code', 'Procedure Description'],\n",
       "      dtype='object')"
      ]
     },
     "execution_count": 7,
     "metadata": {},
     "output_type": "execute_result"
    }
   ],
   "source": [
    "df.columns"
   ]
  },
  {
   "cell_type": "code",
   "execution_count": 8,
   "metadata": {},
   "outputs": [
    {
     "name": "stdout",
     "output_type": "stream",
     "text": [
      "<class 'pandas.core.frame.DataFrame'>\n",
      "RangeIndex: 390492 entries, 0 to 390491\n",
      "Data columns (total 20 columns):\n",
      "FY                             390492 non-null int64\n",
      "ALJ Number                     390492 non-null object\n",
      "Claims                         390492 non-null object\n",
      "Received_Date                  390492 non-null datetime64[ns]\n",
      "Request Type                   385246 non-null object\n",
      "Appeal Category                390492 non-null object\n",
      "Medicare Part                  390492 non-null object\n",
      "Requestor Type                 390490 non-null object\n",
      "State                          379997 non-null object\n",
      "OTR                            390492 non-null object\n",
      "PSC/\r\n",
      "ZPIC                     390492 non-null object\n",
      "RAC                            390492 non-null object\n",
      "Hearing_Completed_Date         142835 non-null datetime64[ns]\n",
      "Hearing Type                   390492 non-null object\n",
      "Hearing Format                 156485 non-null object\n",
      "Decision_Letter_Mailed_Date    242740 non-null datetime64[ns]\n",
      "Disposition                    390492 non-null object\n",
      "Appeal Status                  390492 non-null object\n",
      "Procedure Code                 321456 non-null object\n",
      "Procedure Description          321456 non-null object\n",
      "dtypes: datetime64[ns](3), int64(1), object(16)\n",
      "memory usage: 59.6+ MB\n"
     ]
    }
   ],
   "source": [
    "df.info()"
   ]
  },
  {
   "cell_type": "code",
   "execution_count": null,
   "metadata": {},
   "outputs": [],
   "source": [
    "    "
   ]
  }
 ],
 "metadata": {
  "kernelspec": {
   "display_name": "Python 3",
   "language": "python",
   "name": "python3"
  },
  "language_info": {
   "codemirror_mode": {
    "name": "ipython",
    "version": 3
   },
   "file_extension": ".py",
   "mimetype": "text/x-python",
   "name": "python",
   "nbconvert_exporter": "python",
   "pygments_lexer": "ipython3",
   "version": "3.7.1"
  }
 },
 "nbformat": 4,
 "nbformat_minor": 2
}
