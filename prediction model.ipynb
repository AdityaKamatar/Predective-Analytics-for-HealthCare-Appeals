{
 "cells": [
  {
   "cell_type": "markdown",
   "metadata": {},
   "source": [
    "# Prediction model \n",
    "\n",
    "This jupyter notebook walks through what we have done for the prediction model\n",
    "\n",
    "## Import packages"
   ]
  },
  {
   "cell_type": "code",
   "execution_count": 83,
   "metadata": {},
   "outputs": [],
   "source": [
    "import numpy as np\n",
    "import pandas as pd"
   ]
  },
  {
   "cell_type": "markdown",
   "metadata": {},
   "source": [
    "## Data propressing\n",
    "\n",
    "Data proprecessing includes:\n",
    "\n",
    "- Flip favourable and unfavourable\n",
    "- Filter all closed cases\n",
    "- Drop unuseful columns\n",
    "- Transform data type (to save memory)\n",
    "- Clean claims (convert to numeric and then categorical)\n",
    "- Dummify variables to make sure models can use"
   ]
  },
  {
   "cell_type": "code",
   "execution_count": 30,
   "metadata": {},
   "outputs": [
    {
     "data": {
      "text/plain": [
       "Claims             object\n",
       "Appeal Category    object\n",
       "Medicare Part      object\n",
       "Requestor Type     object\n",
       "State              object\n",
       "PSC/ZPIC           object\n",
       "RAC                object\n",
       "Disposition          int8\n",
       "Procedure Code     object\n",
       "dtype: object"
      ]
     },
     "execution_count": 30,
     "metadata": {},
     "output_type": "execute_result"
    }
   ],
   "source": [
    "data  = pd.read_pickle('allYear.pkl')\n",
    "\n",
    "no_effect = ['Favorable','Partially Favorable','Dismissed','Remanded','Removal to MAC/DAB','No Disposition','Escalated','Exp Acc to Judicial Review','Invalid Request']\n",
    "    \n",
    "data['Disposition'] = data['Disposition'].apply(lambda x : 0 if x in no_effect else 1)\n",
    "\n",
    "data = data[data['Appeal Status'] == 'Closed']\n",
    "\n",
    "data = data.drop(labels = ['FY','ALJ Number','Recd Date','Request Type','OTR','Hearing Completed Date','Hearing Format',\n",
    "                           'Procedure Description','Decision Letter Mailed Date',\n",
    "                          'Hearing Type','Appeal Status'], axis = 1)\n",
    "\n",
    "data['Disposition']=data.Disposition.astype('int8')\n",
    "data['Claims']=data.Claims.apply(lambda x:str(x).replace(\",\",\"\")).astype(\"int16\")\n",
    "\n",
    "catClaims, bins = pd.cut(data.Claims,8,labels=[\"level\"+str(i) for i in range(8)],retbins=True)\n",
    "\n",
    "data['Claims'] = catClaims\n",
    "del catClaims\n",
    "\n",
    "data['Claims'] = data['Claims'].astype(str)\n",
    "data.dtypes"
   ]
  },
  {
   "cell_type": "code",
   "execution_count": 31,
   "metadata": {},
   "outputs": [],
   "source": [
    "data = pd.get_dummies(data,drop_first= True)"
   ]
  },
  {
   "cell_type": "code",
   "execution_count": 32,
   "metadata": {},
   "outputs": [
    {
     "data": {
      "text/plain": [
       "(722046, 7428)"
      ]
     },
     "execution_count": 32,
     "metadata": {},
     "output_type": "execute_result"
    }
   ],
   "source": [
    "data.shape"
   ]
  },
  {
   "cell_type": "code",
   "execution_count": 33,
   "metadata": {},
   "outputs": [],
   "source": [
    "X=data.drop('Disposition',axis=1)\n",
    "y = data['Disposition']\n",
    "del data"
   ]
  },
  {
   "cell_type": "code",
   "execution_count": 34,
   "metadata": {},
   "outputs": [
    {
     "data": {
      "text/plain": [
       "0    537421\n",
       "1    184625\n",
       "Name: Disposition, dtype: int64"
      ]
     },
     "execution_count": 34,
     "metadata": {},
     "output_type": "execute_result"
    }
   ],
   "source": [
    "y.value_counts()"
   ]
  },
  {
   "cell_type": "code",
   "execution_count": 35,
   "metadata": {},
   "outputs": [
    {
     "data": {
      "text/plain": [
       "0.25569700545394614"
      ]
     },
     "execution_count": 35,
     "metadata": {},
     "output_type": "execute_result"
    }
   ],
   "source": [
    "y.mean()"
   ]
  },
  {
   "cell_type": "code",
   "execution_count": 36,
   "metadata": {},
   "outputs": [
    {
     "data": {
      "text/plain": [
       "(722046, 7427)"
      ]
     },
     "execution_count": 36,
     "metadata": {},
     "output_type": "execute_result"
    }
   ],
   "source": [
    "X.shape"
   ]
  },
  {
   "cell_type": "code",
   "execution_count": 84,
   "metadata": {},
   "outputs": [
    {
     "data": {
      "text/html": [
       "<div>\n",
       "<style scoped>\n",
       "    .dataframe tbody tr th:only-of-type {\n",
       "        vertical-align: middle;\n",
       "    }\n",
       "\n",
       "    .dataframe tbody tr th {\n",
       "        vertical-align: top;\n",
       "    }\n",
       "\n",
       "    .dataframe thead th {\n",
       "        text-align: right;\n",
       "    }\n",
       "</style>\n",
       "<table border=\"1\" class=\"dataframe\">\n",
       "  <thead>\n",
       "    <tr style=\"text-align: right;\">\n",
       "      <th></th>\n",
       "      <th>Requestor Type_Provider</th>\n",
       "      <th>Requestor Type_State Medicaid Agency</th>\n",
       "      <th>State_NY</th>\n",
       "      <th>State_CA</th>\n",
       "      <th>Appeal Category_Home Health/Hospice</th>\n",
       "      <th>Medicare Part_Part B</th>\n",
       "      <th>State_FL</th>\n",
       "      <th>Appeal Category_Acute Hospital</th>\n",
       "      <th>State_MA</th>\n",
       "      <th>Medicare Part_Part C</th>\n",
       "      <th>...</th>\n",
       "      <th>Procedure Code_77051</th>\n",
       "      <th>Procedure Code_73510</th>\n",
       "      <th>Procedure Code_86703</th>\n",
       "      <th>Procedure Code_L5590</th>\n",
       "      <th>Procedure Code_E0600</th>\n",
       "      <th>Procedure Code_J2060</th>\n",
       "      <th>Procedure Code_J1441</th>\n",
       "      <th>Procedure Code_C1760</th>\n",
       "      <th>Procedure Code_1CGK3</th>\n",
       "      <th>Procedure Code_44120</th>\n",
       "    </tr>\n",
       "  </thead>\n",
       "  <tbody>\n",
       "    <tr>\n",
       "      <th>1812</th>\n",
       "      <td>1</td>\n",
       "      <td>0</td>\n",
       "      <td>0</td>\n",
       "      <td>0</td>\n",
       "      <td>0</td>\n",
       "      <td>1</td>\n",
       "      <td>0</td>\n",
       "      <td>0</td>\n",
       "      <td>0</td>\n",
       "      <td>0</td>\n",
       "      <td>...</td>\n",
       "      <td>0</td>\n",
       "      <td>0</td>\n",
       "      <td>0</td>\n",
       "      <td>0</td>\n",
       "      <td>0</td>\n",
       "      <td>0</td>\n",
       "      <td>0</td>\n",
       "      <td>0</td>\n",
       "      <td>0</td>\n",
       "      <td>0</td>\n",
       "    </tr>\n",
       "    <tr>\n",
       "      <th>1817</th>\n",
       "      <td>1</td>\n",
       "      <td>0</td>\n",
       "      <td>0</td>\n",
       "      <td>0</td>\n",
       "      <td>0</td>\n",
       "      <td>0</td>\n",
       "      <td>0</td>\n",
       "      <td>0</td>\n",
       "      <td>0</td>\n",
       "      <td>0</td>\n",
       "      <td>...</td>\n",
       "      <td>0</td>\n",
       "      <td>0</td>\n",
       "      <td>0</td>\n",
       "      <td>0</td>\n",
       "      <td>0</td>\n",
       "      <td>0</td>\n",
       "      <td>0</td>\n",
       "      <td>0</td>\n",
       "      <td>0</td>\n",
       "      <td>0</td>\n",
       "    </tr>\n",
       "    <tr>\n",
       "      <th>1822</th>\n",
       "      <td>0</td>\n",
       "      <td>0</td>\n",
       "      <td>0</td>\n",
       "      <td>0</td>\n",
       "      <td>0</td>\n",
       "      <td>1</td>\n",
       "      <td>0</td>\n",
       "      <td>0</td>\n",
       "      <td>0</td>\n",
       "      <td>0</td>\n",
       "      <td>...</td>\n",
       "      <td>0</td>\n",
       "      <td>0</td>\n",
       "      <td>0</td>\n",
       "      <td>0</td>\n",
       "      <td>0</td>\n",
       "      <td>0</td>\n",
       "      <td>0</td>\n",
       "      <td>0</td>\n",
       "      <td>0</td>\n",
       "      <td>0</td>\n",
       "    </tr>\n",
       "    <tr>\n",
       "      <th>1824</th>\n",
       "      <td>1</td>\n",
       "      <td>0</td>\n",
       "      <td>0</td>\n",
       "      <td>0</td>\n",
       "      <td>0</td>\n",
       "      <td>1</td>\n",
       "      <td>0</td>\n",
       "      <td>0</td>\n",
       "      <td>0</td>\n",
       "      <td>0</td>\n",
       "      <td>...</td>\n",
       "      <td>0</td>\n",
       "      <td>0</td>\n",
       "      <td>0</td>\n",
       "      <td>0</td>\n",
       "      <td>0</td>\n",
       "      <td>0</td>\n",
       "      <td>0</td>\n",
       "      <td>0</td>\n",
       "      <td>0</td>\n",
       "      <td>0</td>\n",
       "    </tr>\n",
       "    <tr>\n",
       "      <th>1827</th>\n",
       "      <td>1</td>\n",
       "      <td>0</td>\n",
       "      <td>0</td>\n",
       "      <td>0</td>\n",
       "      <td>0</td>\n",
       "      <td>1</td>\n",
       "      <td>1</td>\n",
       "      <td>0</td>\n",
       "      <td>0</td>\n",
       "      <td>0</td>\n",
       "      <td>...</td>\n",
       "      <td>0</td>\n",
       "      <td>0</td>\n",
       "      <td>0</td>\n",
       "      <td>0</td>\n",
       "      <td>0</td>\n",
       "      <td>0</td>\n",
       "      <td>0</td>\n",
       "      <td>0</td>\n",
       "      <td>0</td>\n",
       "      <td>0</td>\n",
       "    </tr>\n",
       "  </tbody>\n",
       "</table>\n",
       "<p>5 rows × 1210 columns</p>\n",
       "</div>"
      ],
      "text/plain": [
       "      Requestor Type_Provider  Requestor Type_State Medicaid Agency  State_NY  \\\n",
       "1812                        1                                     0         0   \n",
       "1817                        1                                     0         0   \n",
       "1822                        0                                     0         0   \n",
       "1824                        1                                     0         0   \n",
       "1827                        1                                     0         0   \n",
       "\n",
       "      State_CA  Appeal Category_Home Health/Hospice  Medicare Part_Part B  \\\n",
       "1812         0                                    0                     1   \n",
       "1817         0                                    0                     0   \n",
       "1822         0                                    0                     1   \n",
       "1824         0                                    0                     1   \n",
       "1827         0                                    0                     1   \n",
       "\n",
       "      State_FL  Appeal Category_Acute Hospital  State_MA  \\\n",
       "1812         0                               0         0   \n",
       "1817         0                               0         0   \n",
       "1822         0                               0         0   \n",
       "1824         0                               0         0   \n",
       "1827         1                               0         0   \n",
       "\n",
       "      Medicare Part_Part C          ...           Procedure Code_77051  \\\n",
       "1812                     0          ...                              0   \n",
       "1817                     0          ...                              0   \n",
       "1822                     0          ...                              0   \n",
       "1824                     0          ...                              0   \n",
       "1827                     0          ...                              0   \n",
       "\n",
       "      Procedure Code_73510  Procedure Code_86703  Procedure Code_L5590  \\\n",
       "1812                     0                     0                     0   \n",
       "1817                     0                     0                     0   \n",
       "1822                     0                     0                     0   \n",
       "1824                     0                     0                     0   \n",
       "1827                     0                     0                     0   \n",
       "\n",
       "      Procedure Code_E0600  Procedure Code_J2060  Procedure Code_J1441  \\\n",
       "1812                     0                     0                     0   \n",
       "1817                     0                     0                     0   \n",
       "1822                     0                     0                     0   \n",
       "1824                     0                     0                     0   \n",
       "1827                     0                     0                     0   \n",
       "\n",
       "      Procedure Code_C1760  Procedure Code_1CGK3  Procedure Code_44120  \n",
       "1812                     0                     0                     0  \n",
       "1817                     0                     0                     0  \n",
       "1822                     0                     0                     0  \n",
       "1824                     0                     0                     0  \n",
       "1827                     0                     0                     0  \n",
       "\n",
       "[5 rows x 1210 columns]"
      ]
     },
     "execution_count": 84,
     "metadata": {},
     "output_type": "execute_result"
    }
   ],
   "source": [
    "X_new.head()"
   ]
  },
  {
   "cell_type": "markdown",
   "metadata": {},
   "source": [
    "## Feature Selection"
   ]
  },
  {
   "cell_type": "code",
   "execution_count": 19,
   "metadata": {},
   "outputs": [
    {
     "name": "stderr",
     "output_type": "stream",
     "text": [
      "/home/ec2-user/anaconda3/envs/python3/lib/python3.6/site-packages/sklearn/ensemble/weight_boosting.py:29: DeprecationWarning: numpy.core.umath_tests is an internal NumPy module and should not be imported. It will be removed in a future NumPy release.\n",
      "  from numpy.core.umath_tests import inner1d\n"
     ]
    },
    {
     "data": {
      "text/plain": [
       "ExtraTreesClassifier(bootstrap=False, class_weight=None, criterion='gini',\n",
       "           max_depth=None, max_features='auto', max_leaf_nodes=None,\n",
       "           min_impurity_decrease=0.0, min_impurity_split=None,\n",
       "           min_samples_leaf=1, min_samples_split=2,\n",
       "           min_weight_fraction_leaf=0.0, n_estimators=10, n_jobs=-1,\n",
       "           oob_score=False, random_state=None, verbose=0, warm_start=False)"
      ]
     },
     "execution_count": 19,
     "metadata": {},
     "output_type": "execute_result"
    }
   ],
   "source": [
    "from sklearn.ensemble import ExtraTreesClassifier\n",
    "model = ExtraTreesClassifier(n_jobs=-1,n_estimators=10)\n",
    "model.fit(X, y)"
   ]
  },
  {
   "cell_type": "code",
   "execution_count": 20,
   "metadata": {},
   "outputs": [
    {
     "name": "stdout",
     "output_type": "stream",
     "text": [
      "                                    feature  importance\n",
      "58                  Requestor Type_Provider    0.024767\n",
      "59     Requestor Type_State Medicaid Agency    0.023445\n",
      "96                                 State_NY    0.019583\n",
      "63                                 State_CA    0.018179\n",
      "14      Appeal Category_Home Health/Hospice    0.013949\n",
      "41                     Medicare Part_Part B    0.013049\n",
      "68                                 State_FL    0.012621\n",
      "6            Appeal Category_Acute Hospital    0.012564\n",
      "80                                 State_MA    0.012544\n",
      "43                     Medicare Part_Part C    0.011697\n",
      "50               Requestor Type_Beneficiary    0.011692\n",
      "5652                   Procedure Code_G0154    0.009909\n",
      "115                            PSC/ZPIC_Yes    0.009827\n",
      "40                     Medicare Part_Part A    0.009298\n",
      "30    Appeal Category_Practitioner Services    0.009009\n",
      "48             Requestor Type_Appointed Rep    0.008946\n",
      "10                      Appeal Category_DME    0.008507\n",
      "49                  Requestor Type_Attorney    0.008428\n",
      "106                                State_TX    0.008369\n",
      "93                                 State_NJ    0.008298\n",
      "64                                 State_CO    0.008116\n",
      "100                                State_PA    0.007975\n",
      "116                                 RAC_Yes    0.007497\n",
      "25                    Appeal Category_Other    0.007455\n",
      "83                                 State_MI    0.007216\n",
      "75                                 State_IL    0.006155\n",
      "42                Medicare Part_Part B of A    0.006057\n",
      "5654                   Procedure Code_G0156    0.006006\n",
      "97                                 State_OH    0.005846\n",
      "28     Appeal Category_Outpatient Therapies    0.005385\n",
      "...                                     ...         ...\n",
      "3350                   Procedure Code_86709    0.000000\n",
      "359                    Procedure Code_12044    0.000000\n",
      "226                    Procedure Code_1003F    0.000000\n",
      "3001                   Procedure Code_82042    0.000000\n",
      "7250                   Procedure Code_R0076    0.000000\n",
      "3314                   Procedure Code_86403    0.000000\n",
      "3338                   Procedure Code_86671    0.000000\n",
      "1743                   Procedure Code_45379    0.000000\n",
      "1006                   Procedure Code_28092    0.000000\n",
      "3031                   Procedure Code_82331    0.000000\n",
      "3326                   Procedure Code_86609    0.000000\n",
      "594                    Procedure Code_20206    0.000000\n",
      "6561                   Procedure Code_L1070    0.000000\n",
      "3362                   Procedure Code_86804    0.000000\n",
      "1704                   Procedure Code_44386    0.000000\n",
      "7131                   Procedure Code_M0302    0.000000\n",
      "1454                   Procedure Code_36831    0.000000\n",
      "1757                   Procedure Code_46020    0.000000\n",
      "1702                   Procedure Code_44360    0.000000\n",
      "1703                   Procedure Code_44372    0.000000\n",
      "2733                   Procedure Code_76080    0.000000\n",
      "3477                   Procedure Code_88182    0.000000\n",
      "1763                   Procedure Code_46255    0.000000\n",
      "2079                   Procedure Code_60001    0.000000\n",
      "2974                   Procedure Code_80188    0.000000\n",
      "1716                   Procedure Code_44721    0.000000\n",
      "3358                   Procedure Code_86790    0.000000\n",
      "3641                   Procedure Code_91038    0.000000\n",
      "2074                   Procedure Code_59812    0.000000\n",
      "4417                   Procedure Code_A4348    0.000000\n",
      "\n",
      "[7427 rows x 2 columns]\n"
     ]
    }
   ],
   "source": [
    "feature_imp = pd.DataFrame(list(zip(X.columns, model.feature_importances_)), columns = ['feature','importance']).sort_values(by = 'importance', ascending = False)\n",
    "\n",
    "print(feature_imp)"
   ]
  },
  {
   "cell_type": "code",
   "execution_count": 9,
   "metadata": {},
   "outputs": [],
   "source": [
    "feature_imp = pd.read_pickle('featureimportance.pkl')"
   ]
  },
  {
   "cell_type": "code",
   "execution_count": 37,
   "metadata": {},
   "outputs": [
    {
     "data": {
      "text/plain": [
       "1210"
      ]
     },
     "execution_count": 37,
     "metadata": {},
     "output_type": "execute_result"
    }
   ],
   "source": [
    "feature_selected = list(feature_imp[feature_imp['importance']>0.0001].feature.values)\n",
    "len(feature_selected)"
   ]
  },
  {
   "cell_type": "code",
   "execution_count": 38,
   "metadata": {},
   "outputs": [
    {
     "data": {
      "text/plain": [
       "Text(0.5,1,'Top 5 importantant features')"
      ]
     },
     "execution_count": 38,
     "metadata": {},
     "output_type": "execute_result"
    },
    {
     "data": {
      "image/png": "[encoded data removed]",
      "text/plain": [
       "<Figure size 1080x432 with 1 Axes>"
      ]
     },
     "metadata": {},
     "output_type": "display_data"
    }
   ],
   "source": [
    "import matplotlib.pyplot as plt\n",
    "import seaborn as sns\n",
    "\n",
    "#plt.style.use(\"dark_background\")\n",
    "plt.figure(figsize=(15,6))\n",
    "sns.set(style=\"whitegrid\")\n",
    "sns.barplot(y=\"feature\", x=\"importance\", data=feature_imp.head(5))\n",
    "plt.title(\"Top 5 importantant features\")"
   ]
  },
  {
   "cell_type": "code",
   "execution_count": 29,
   "metadata": {},
   "outputs": [],
   "source": [
    "feature_imp.to_pickle(\"featureimportance.pkl\")"
   ]
  },
  {
   "cell_type": "code",
   "execution_count": 39,
   "metadata": {},
   "outputs": [],
   "source": [
    "X_new = X[feature_selected]\n",
    "X_new.head()\n",
    "del X"
   ]
  },
  {
   "cell_type": "code",
   "execution_count": 88,
   "metadata": {},
   "outputs": [],
   "source": [
    "X_new.head(1).to_csv(\"features.csv\",index=False)"
   ]
  },
  {
   "cell_type": "markdown",
   "metadata": {},
   "source": [
    "## Modeling"
   ]
  },
  {
   "cell_type": "code",
   "execution_count": 40,
   "metadata": {},
   "outputs": [],
   "source": [
    "from sklearn.model_selection import train_test_split\n",
    "from sklearn.linear_model import LogisticRegression\n",
    "from sklearn.tree import DecisionTreeClassifier\n",
    "from sklearn.ensemble import RandomForestClassifier\n",
    "#import xgboost as xgb\n",
    "\n",
    "from sklearn.metrics import classification_report\n",
    "from sklearn.metrics import confusion_matrix,precision_recall_curve\n",
    "\n",
    "X_train,X_test,y_train,y_test = train_test_split(X_new,y,test_size=0.2,random_state=42,stratify = y)"
   ]
  },
  {
   "cell_type": "code",
   "execution_count": 41,
   "metadata": {},
   "outputs": [],
   "source": [
    "def compute_prt(y_pred, y_test):\n",
    "    result = []\n",
    "    for i in range(1,1000,1):\n",
    "        threshold = i/1000\n",
    "        y_pred_int  = (y_pred[:,1]  >= threshold).astype('int')\n",
    "        \n",
    "        #vector = compute_net_profit(y_pred_int,y_test,profits_Xtest)\n",
    "        \n",
    "        #TP_Net = vector[0]\n",
    "        #FP_Net = vector[1]\n",
    "        #FN_Net = vector[2]\n",
    "        #TN_Net = vector[3]    \n",
    "\n",
    "        a = confusion_matrix(y_test,y_pred_int)\n",
    "#        loss = log_loss(y_test,y_pred_int)\n",
    "        tp = a[0,0]\n",
    "        fp = a[0,1]\n",
    "        fn = a[1,0]\n",
    "        tn = a[1,1]\n",
    "        \n",
    "        precision = tp/(tp+fp)\n",
    "        recall = tp/(tp+fn)\n",
    "        accuracy = (tp+tn)/(tp+tn+fp+fn)\n",
    "       \n",
    "        result.append((threshold, precision, recall,accuracy))\n",
    "        result_df = pd.DataFrame(result, \n",
    "                                 columns = ['Threshold','Precision','Recall','Accuracy']).sort_values(by = 'Precision',\n",
    "                                                                                                ascending = False)\n",
    "\n",
    "    return result_df"
   ]
  },
  {
   "cell_type": "markdown",
   "metadata": {},
   "source": [
    "## XGBoost"
   ]
  },
  {
   "cell_type": "code",
   "execution_count": 15,
   "metadata": {},
   "outputs": [],
   "source": [
    "#!conda install -y -c conda-forge xgboost"
   ]
  },
  {
   "cell_type": "code",
   "execution_count": 42,
   "metadata": {},
   "outputs": [],
   "source": [
    "import xgboost as xgb\n",
    "import sklearn as sk \n",
    "\n",
    "bt = xgb.XGBClassifier(n_jobs=-1,n_estimators=30,max_depth=10,scale_pos_weight = 2)"
   ]
  },
  {
   "cell_type": "code",
   "execution_count": 43,
   "metadata": {},
   "outputs": [
    {
     "data": {
      "text/plain": [
       "XGBClassifier(base_score=0.5, booster='gbtree', colsample_bylevel=1,\n",
       "       colsample_bytree=1, gamma=0, learning_rate=0.1, max_delta_step=0,\n",
       "       max_depth=10, min_child_weight=1, missing=None, n_estimators=30,\n",
       "       n_jobs=-1, nthread=None, objective='binary:logistic',\n",
       "       random_state=0, reg_alpha=0, reg_lambda=1, scale_pos_weight=2,\n",
       "       seed=None, silent=True, subsample=1)"
      ]
     },
     "execution_count": 43,
     "metadata": {},
     "output_type": "execute_result"
    }
   ],
   "source": [
    "bt.fit(X_train,y_train)"
   ]
  },
  {
   "cell_type": "code",
   "execution_count": 44,
   "metadata": {},
   "outputs": [],
   "source": [
    "y_pred_bt =  bt.predict_proba(X_test)\n",
    "#bt_Result = compute_prt(y_pred_bt, y_test )"
   ]
  },
  {
   "cell_type": "code",
   "execution_count": 45,
   "metadata": {},
   "outputs": [
    {
     "data": {
      "text/plain": [
       "<matplotlib.legend.Legend at 0x7f78af77dda0>"
      ]
     },
     "execution_count": 45,
     "metadata": {},
     "output_type": "execute_result"
    },
    {
     "data": {
      "image/png": "[encoded data removed]",
      "text/plain": [
       "<Figure size 576x576 with 1 Axes>"
      ]
     },
     "metadata": {},
     "output_type": "display_data"
    }
   ],
   "source": [
    "from sklearn.metrics import roc_curve\n",
    "from sklearn.metrics import auc\n",
    "\n",
    "# Compute fpr, tpr, thresholds and roc auc\n",
    "fpr, tpr, thresholds = roc_curve(y_test, y_pred_bt[:,1])\n",
    "roc_auc = auc(fpr, tpr)\n",
    "#roc_auc=1\n",
    "# Plot ROC curve\n",
    "plt.figure(figsize=(8,8))\n",
    "plt.plot(fpr, tpr, label='ROC curve (area = %0.3f)' % roc_auc)\n",
    "plt.plot([0, 1], [0, 1], 'k--')  # random predictions curve\n",
    "plt.xlim([0.0, 1.0])\n",
    "plt.ylim([0.0, 1.0])\n",
    "plt.xlabel('False Positive Rate or (1 - Specifity)')\n",
    "plt.ylabel('True Positive Rate or (Sensitivity)')\n",
    "plt.title('Receiver Operating Characteristic')\n",
    "plt.legend(loc=\"lower right\")"
   ]
  },
  {
   "cell_type": "code",
   "execution_count": 46,
   "metadata": {},
   "outputs": [],
   "source": [
    "del fpr,tpr,thresholds,roc_auc,y_pred_bt,bt"
   ]
  },
  {
   "cell_type": "markdown",
   "metadata": {},
   "source": [
    "## Logistic Regression"
   ]
  },
  {
   "cell_type": "code",
   "execution_count": 47,
   "metadata": {},
   "outputs": [
    {
     "name": "stderr",
     "output_type": "stream",
     "text": [
      "/home/ec2-user/anaconda3/envs/python3/lib/python3.6/site-packages/sklearn/linear_model/logistic.py:1228: UserWarning: 'n_jobs' > 1 does not have any effect when 'solver' is set to 'liblinear'. Got 'n_jobs' = -1.\n",
      "  \" = {}.\".format(self.n_jobs))\n"
     ]
    },
    {
     "data": {
      "text/plain": [
       "LogisticRegression(C=1.0, class_weight=None, dual=False, fit_intercept=True,\n",
       "          intercept_scaling=1, max_iter=100, multi_class='ovr', n_jobs=-1,\n",
       "          penalty='l2', random_state=0, solver='liblinear', tol=0.0001,\n",
       "          verbose=0, warm_start=False)"
      ]
     },
     "execution_count": 47,
     "metadata": {},
     "output_type": "execute_result"
    }
   ],
   "source": [
    "from sklearn.linear_model import LogisticRegression\n",
    "\n",
    "clf = LogisticRegression(random_state=0,n_jobs=-1)\n",
    "clf.fit(X_train,y_train)"
   ]
  },
  {
   "cell_type": "code",
   "execution_count": 48,
   "metadata": {},
   "outputs": [],
   "source": [
    "y_pred_cl = clf.predict_proba(X_test)"
   ]
  },
  {
   "cell_type": "code",
   "execution_count": 49,
   "metadata": {},
   "outputs": [
    {
     "data": {
      "text/plain": [
       "<matplotlib.legend.Legend at 0x7f78acf22b70>"
      ]
     },
     "execution_count": 49,
     "metadata": {},
     "output_type": "execute_result"
    },
    {
     "data": {
      "image/png": "[encoded data removed]",
      "text/plain": [
       "<Figure size 576x576 with 1 Axes>"
      ]
     },
     "metadata": {},
     "output_type": "display_data"
    }
   ],
   "source": [
    "fpr, tpr, thresholds = roc_curve(y_test, y_pred_cl[:,1])\n",
    "roc_auc = auc(fpr, tpr)\n",
    "#roc_auc=1\n",
    "# Plot ROC curve\n",
    "plt.figure(figsize=(8,8))\n",
    "plt.plot(fpr, tpr, label='ROC curve (area = %0.3f)' % roc_auc)\n",
    "plt.plot([0, 1], [0, 1], 'k--')  # random predictions curve\n",
    "plt.xlim([0.0, 1.0])\n",
    "plt.ylim([0.0, 1.0])\n",
    "plt.xlabel('False Positive Rate or (1 - Specifity)')\n",
    "plt.ylabel('True Positive Rate or (Sensitivity)')\n",
    "plt.title('Receiver Operating Characteristic')\n",
    "plt.legend(loc=\"lower right\")"
   ]
  },
  {
   "cell_type": "markdown",
   "metadata": {},
   "source": [
    "## Random forest"
   ]
  },
  {
   "cell_type": "code",
   "execution_count": 50,
   "metadata": {},
   "outputs": [],
   "source": [
    "rf = RandomForestClassifier(n_estimators= 70, n_jobs= -1,class_weight={0:1,1:2})\n",
    "rf.fit(X_train,y_train)\n",
    "y_pred_rf1 =  rf.predict_proba(X_test)\n",
    "#RF_Result = compute_prt(y_pred_rf1, y_test )"
   ]
  },
  {
   "cell_type": "code",
   "execution_count": 51,
   "metadata": {},
   "outputs": [
    {
     "data": {
      "text/plain": [
       "<matplotlib.legend.Legend at 0x7f78ac93c470>"
      ]
     },
     "execution_count": 51,
     "metadata": {},
     "output_type": "execute_result"
    },
    {
     "data": {
      "image/png": "[encoded data removed]",
      "text/plain": [
       "<Figure size 576x576 with 1 Axes>"
      ]
     },
     "metadata": {},
     "output_type": "display_data"
    }
   ],
   "source": [
    "from sklearn.metrics import roc_curve\n",
    "from sklearn.metrics import auc\n",
    "\n",
    "# Compute fpr, tpr, thresholds and roc auc\n",
    "fpr, tpr, thresholds = roc_curve(y_test, y_pred_rf1[:,1])\n",
    "roc_auc = auc(fpr, tpr)\n",
    "#roc_auc=1\n",
    "# Plot ROC curve\n",
    "plt.figure(figsize=(8,8))\n",
    "plt.plot(fpr, tpr, label='ROC curve (area = %0.3f)' % roc_auc)\n",
    "plt.plot([0, 1], [0, 1], 'k--')  # random predictions curve\n",
    "plt.xlim([0.0, 1.0])\n",
    "plt.ylim([0.0, 1.0])\n",
    "plt.xlabel('False Positive Rate or (1 - Specifity)')\n",
    "plt.ylabel('True Positive Rate or (Sensitivity)')\n",
    "plt.title('Receiver Operating Characteristic')\n",
    "plt.legend(loc=\"lower right\")"
   ]
  },
  {
   "cell_type": "code",
   "execution_count": 52,
   "metadata": {},
   "outputs": [
    {
     "name": "stdout",
     "output_type": "stream",
     "text": [
      "             precision    recall  f1-score   support\n",
      "\n",
      "          0       0.81      0.84      0.82    107485\n",
      "          1       0.47      0.41      0.44     36925\n",
      "\n",
      "avg / total       0.72      0.73      0.73    144410\n",
      "\n"
     ]
    }
   ],
   "source": [
    "y_pred = rf.predict(X_test)\n",
    "\n",
    "print(classification_report(y_test,y_pred))"
   ]
  },
  {
   "cell_type": "code",
   "execution_count": 93,
   "metadata": {},
   "outputs": [
    {
     "data": {
      "text/plain": [
       "0         0\n",
       "0         0\n",
       "1         0\n",
       "4         0\n",
       "4         1\n",
       "4         1\n",
       "5         1\n",
       "7         0\n",
       "9         0\n",
       "14        0\n",
       "15        0\n",
       "16        0\n",
       "16        1\n",
       "17        0\n",
       "17        0\n",
       "24        1\n",
       "25        1\n",
       "25        0\n",
       "26        0\n",
       "28        0\n",
       "28        0\n",
       "29        0\n",
       "30        0\n",
       "32        0\n",
       "32        1\n",
       "33        0\n",
       "34        0\n",
       "35        0\n",
       "36        0\n",
       "43        0\n",
       "         ..\n",
       "389922    0\n",
       "389983    0\n",
       "389992    0\n",
       "389994    0\n",
       "390014    1\n",
       "390022    0\n",
       "390025    0\n",
       "390048    0\n",
       "390062    0\n",
       "390090    0\n",
       "390106    0\n",
       "390194    0\n",
       "390197    0\n",
       "390198    0\n",
       "390206    0\n",
       "390226    0\n",
       "390228    0\n",
       "390250    1\n",
       "390296    0\n",
       "390311    1\n",
       "390357    0\n",
       "390358    0\n",
       "390360    1\n",
       "390365    0\n",
       "390366    0\n",
       "390397    1\n",
       "390445    0\n",
       "390446    0\n",
       "390474    0\n",
       "390477    0\n",
       "Name: Disposition, Length: 144410, dtype: int8"
      ]
     },
     "execution_count": 93,
     "metadata": {},
     "output_type": "execute_result"
    }
   ],
   "source": [
    "y_test.sort_index()"
   ]
  },
  {
   "cell_type": "code",
   "execution_count": 53,
   "metadata": {},
   "outputs": [],
   "source": [
    "cm= confusion_matrix(y_test,y_pred)"
   ]
  },
  {
   "cell_type": "code",
   "execution_count": 54,
   "metadata": {},
   "outputs": [
    {
     "data": {
      "text/plain": [
       "Text(0.5,1,'confusion_matrix')"
      ]
     },
     "execution_count": 54,
     "metadata": {},
     "output_type": "execute_result"
    },
    {
     "data": {
      "image/png": "[encoded data removed]",
      "text/plain": [
       "<Figure size 720x504 with 2 Axes>"
      ]
     },
     "metadata": {},
     "output_type": "display_data"
    }
   ],
   "source": [
    "df_cm = pd.DataFrame(cm, index = [i for i in [\"Unf\",\"f\"]],\n",
    "                  columns = [i for i in [\"Unf\",\"f\"]])\n",
    "plt.figure(figsize = (10,7))\n",
    "sns.heatmap(df_cm, annot=True,cmap=\"YlGnBu\")\n",
    "plt.title(\"confusion_matrix\")"
   ]
  },
  {
   "cell_type": "code",
   "execution_count": 55,
   "metadata": {},
   "outputs": [
    {
     "data": {
      "text/plain": [
       "0.25569700545394614"
      ]
     },
     "execution_count": 55,
     "metadata": {},
     "output_type": "execute_result"
    }
   ],
   "source": [
    "y.mean()"
   ]
  },
  {
   "cell_type": "code",
   "execution_count": 56,
   "metadata": {},
   "outputs": [
    {
     "data": {
      "text/plain": [
       "0.7314590402326708"
      ]
     },
     "execution_count": 56,
     "metadata": {},
     "output_type": "execute_result"
    }
   ],
   "source": [
    "from sklearn.metrics import accuracy_score\n",
    "accuracy_score(y_test,y_pred)"
   ]
  },
  {
   "cell_type": "code",
   "execution_count": 57,
   "metadata": {},
   "outputs": [],
   "source": [
    "rf_Result = compute_prt(y_pred_rf1, y_test )"
   ]
  },
  {
   "cell_type": "code",
   "execution_count": 80,
   "metadata": {},
   "outputs": [],
   "source": [
    "rf_Result.to_csv(\"rfresult.csv\")"
   ]
  },
  {
   "cell_type": "code",
   "execution_count": 69,
   "metadata": {},
   "outputs": [
    {
     "data": {
      "text/plain": [
       "<matplotlib.axes._subplots.AxesSubplot at 0x7f78fa240438>"
      ]
     },
     "execution_count": 69,
     "metadata": {},
     "output_type": "execute_result"
    },
    {
     "data": {
      "image/png": "[encoded data removed]",
      "text/plain": [
       "<Figure size 720x360 with 1 Axes>"
      ]
     },
     "metadata": {},
     "output_type": "display_data"
    }
   ],
   "source": [
    "rf_Result.plot(x='Threshold',y='Accuracy',figsize=(10,5))"
   ]
  },
  {
   "cell_type": "code",
   "execution_count": 70,
   "metadata": {},
   "outputs": [
    {
     "data": {
      "text/plain": [
       "<matplotlib.axes._subplots.AxesSubplot at 0x7f78fa19b080>"
      ]
     },
     "execution_count": 70,
     "metadata": {},
     "output_type": "execute_result"
    },
    {
     "data": {
      "image/png": "[encoded data removed]",
      "text/plain": [
       "<Figure size 720x360 with 1 Axes>"
      ]
     },
     "metadata": {},
     "output_type": "display_data"
    }
   ],
   "source": [
    "rf_Result.plot(y='Precision',x='Recall',figsize=(10,5))"
   ]
  },
  {
   "cell_type": "code",
   "execution_count": 79,
   "metadata": {},
   "outputs": [
    {
     "data": {
      "text/html": [
       "<div>\n",
       "<style scoped>\n",
       "    .dataframe tbody tr th:only-of-type {\n",
       "        vertical-align: middle;\n",
       "    }\n",
       "\n",
       "    .dataframe tbody tr th {\n",
       "        vertical-align: top;\n",
       "    }\n",
       "\n",
       "    .dataframe thead th {\n",
       "        text-align: right;\n",
       "    }\n",
       "</style>\n",
       "<table border=\"1\" class=\"dataframe\">\n",
       "  <thead>\n",
       "    <tr style=\"text-align: right;\">\n",
       "      <th></th>\n",
       "      <th>Threshold</th>\n",
       "      <th>Precision</th>\n",
       "      <th>Recall</th>\n",
       "      <th>Accuracy</th>\n",
       "    </tr>\n",
       "  </thead>\n",
       "  <tbody>\n",
       "    <tr>\n",
       "      <th>725</th>\n",
       "      <td>0.726</td>\n",
       "      <td>0.958273</td>\n",
       "      <td>0.776690</td>\n",
       "      <td>0.763874</td>\n",
       "    </tr>\n",
       "    <tr>\n",
       "      <th>739</th>\n",
       "      <td>0.740</td>\n",
       "      <td>0.961650</td>\n",
       "      <td>0.775184</td>\n",
       "      <td>0.763874</td>\n",
       "    </tr>\n",
       "    <tr>\n",
       "      <th>741</th>\n",
       "      <td>0.742</td>\n",
       "      <td>0.961883</td>\n",
       "      <td>0.775081</td>\n",
       "      <td>0.763874</td>\n",
       "    </tr>\n",
       "    <tr>\n",
       "      <th>740</th>\n",
       "      <td>0.741</td>\n",
       "      <td>0.961734</td>\n",
       "      <td>0.775135</td>\n",
       "      <td>0.763860</td>\n",
       "    </tr>\n",
       "    <tr>\n",
       "      <th>727</th>\n",
       "      <td>0.728</td>\n",
       "      <td>0.958841</td>\n",
       "      <td>0.776418</td>\n",
       "      <td>0.763853</td>\n",
       "    </tr>\n",
       "    <tr>\n",
       "      <th>738</th>\n",
       "      <td>0.739</td>\n",
       "      <td>0.961576</td>\n",
       "      <td>0.775199</td>\n",
       "      <td>0.763853</td>\n",
       "    </tr>\n",
       "    <tr>\n",
       "      <th>743</th>\n",
       "      <td>0.744</td>\n",
       "      <td>0.962320</td>\n",
       "      <td>0.774858</td>\n",
       "      <td>0.763839</td>\n",
       "    </tr>\n",
       "    <tr>\n",
       "      <th>747</th>\n",
       "      <td>0.748</td>\n",
       "      <td>0.963316</td>\n",
       "      <td>0.774418</td>\n",
       "      <td>0.763839</td>\n",
       "    </tr>\n",
       "    <tr>\n",
       "      <th>729</th>\n",
       "      <td>0.730</td>\n",
       "      <td>0.959194</td>\n",
       "      <td>0.776237</td>\n",
       "      <td>0.763825</td>\n",
       "    </tr>\n",
       "    <tr>\n",
       "      <th>736</th>\n",
       "      <td>0.737</td>\n",
       "      <td>0.961390</td>\n",
       "      <td>0.775253</td>\n",
       "      <td>0.763818</td>\n",
       "    </tr>\n",
       "    <tr>\n",
       "      <th>742</th>\n",
       "      <td>0.743</td>\n",
       "      <td>0.962246</td>\n",
       "      <td>0.774868</td>\n",
       "      <td>0.763811</td>\n",
       "    </tr>\n",
       "    <tr>\n",
       "      <th>728</th>\n",
       "      <td>0.729</td>\n",
       "      <td>0.959027</td>\n",
       "      <td>0.776282</td>\n",
       "      <td>0.763791</td>\n",
       "    </tr>\n",
       "    <tr>\n",
       "      <th>746</th>\n",
       "      <td>0.747</td>\n",
       "      <td>0.963213</td>\n",
       "      <td>0.774423</td>\n",
       "      <td>0.763791</td>\n",
       "    </tr>\n",
       "    <tr>\n",
       "      <th>745</th>\n",
       "      <td>0.746</td>\n",
       "      <td>0.963158</td>\n",
       "      <td>0.774441</td>\n",
       "      <td>0.763784</td>\n",
       "    </tr>\n",
       "    <tr>\n",
       "      <th>724</th>\n",
       "      <td>0.725</td>\n",
       "      <td>0.957966</td>\n",
       "      <td>0.776752</td>\n",
       "      <td>0.763784</td>\n",
       "    </tr>\n",
       "    <tr>\n",
       "      <th>737</th>\n",
       "      <td>0.738</td>\n",
       "      <td>0.961427</td>\n",
       "      <td>0.775207</td>\n",
       "      <td>0.763784</td>\n",
       "    </tr>\n",
       "    <tr>\n",
       "      <th>744</th>\n",
       "      <td>0.745</td>\n",
       "      <td>0.963037</td>\n",
       "      <td>0.774489</td>\n",
       "      <td>0.763777</td>\n",
       "    </tr>\n",
       "    <tr>\n",
       "      <th>719</th>\n",
       "      <td>0.720</td>\n",
       "      <td>0.956673</td>\n",
       "      <td>0.777310</td>\n",
       "      <td>0.763756</td>\n",
       "    </tr>\n",
       "    <tr>\n",
       "      <th>732</th>\n",
       "      <td>0.733</td>\n",
       "      <td>0.960022</td>\n",
       "      <td>0.775809</td>\n",
       "      <td>0.763756</td>\n",
       "    </tr>\n",
       "    <tr>\n",
       "      <th>726</th>\n",
       "      <td>0.727</td>\n",
       "      <td>0.958506</td>\n",
       "      <td>0.776481</td>\n",
       "      <td>0.763749</td>\n",
       "    </tr>\n",
       "    <tr>\n",
       "      <th>723</th>\n",
       "      <td>0.724</td>\n",
       "      <td>0.957250</td>\n",
       "      <td>0.777044</td>\n",
       "      <td>0.763749</td>\n",
       "    </tr>\n",
       "    <tr>\n",
       "      <th>718</th>\n",
       "      <td>0.719</td>\n",
       "      <td>0.956561</td>\n",
       "      <td>0.777337</td>\n",
       "      <td>0.763728</td>\n",
       "    </tr>\n",
       "    <tr>\n",
       "      <th>731</th>\n",
       "      <td>0.732</td>\n",
       "      <td>0.959790</td>\n",
       "      <td>0.775889</td>\n",
       "      <td>0.763728</td>\n",
       "    </tr>\n",
       "    <tr>\n",
       "      <th>722</th>\n",
       "      <td>0.723</td>\n",
       "      <td>0.957157</td>\n",
       "      <td>0.777063</td>\n",
       "      <td>0.763721</td>\n",
       "    </tr>\n",
       "    <tr>\n",
       "      <th>721</th>\n",
       "      <td>0.722</td>\n",
       "      <td>0.957129</td>\n",
       "      <td>0.777075</td>\n",
       "      <td>0.763721</td>\n",
       "    </tr>\n",
       "    <tr>\n",
       "      <th>720</th>\n",
       "      <td>0.721</td>\n",
       "      <td>0.956943</td>\n",
       "      <td>0.777159</td>\n",
       "      <td>0.763721</td>\n",
       "    </tr>\n",
       "    <tr>\n",
       "      <th>730</th>\n",
       "      <td>0.731</td>\n",
       "      <td>0.959650</td>\n",
       "      <td>0.775940</td>\n",
       "      <td>0.763714</td>\n",
       "    </tr>\n",
       "    <tr>\n",
       "      <th>712</th>\n",
       "      <td>0.713</td>\n",
       "      <td>0.954887</td>\n",
       "      <td>0.778076</td>\n",
       "      <td>0.763707</td>\n",
       "    </tr>\n",
       "    <tr>\n",
       "      <th>715</th>\n",
       "      <td>0.716</td>\n",
       "      <td>0.956040</td>\n",
       "      <td>0.777542</td>\n",
       "      <td>0.763694</td>\n",
       "    </tr>\n",
       "    <tr>\n",
       "      <th>717</th>\n",
       "      <td>0.718</td>\n",
       "      <td>0.956468</td>\n",
       "      <td>0.777338</td>\n",
       "      <td>0.763680</td>\n",
       "    </tr>\n",
       "    <tr>\n",
       "      <th>...</th>\n",
       "      <td>...</td>\n",
       "      <td>...</td>\n",
       "      <td>...</td>\n",
       "      <td>...</td>\n",
       "    </tr>\n",
       "    <tr>\n",
       "      <th>529</th>\n",
       "      <td>0.530</td>\n",
       "      <td>0.870577</td>\n",
       "      <td>0.801065</td>\n",
       "      <td>0.742753</td>\n",
       "    </tr>\n",
       "    <tr>\n",
       "      <th>528</th>\n",
       "      <td>0.529</td>\n",
       "      <td>0.869917</td>\n",
       "      <td>0.801225</td>\n",
       "      <td>0.742546</td>\n",
       "    </tr>\n",
       "    <tr>\n",
       "      <th>527</th>\n",
       "      <td>0.528</td>\n",
       "      <td>0.869182</td>\n",
       "      <td>0.801269</td>\n",
       "      <td>0.742179</td>\n",
       "    </tr>\n",
       "    <tr>\n",
       "      <th>526</th>\n",
       "      <td>0.527</td>\n",
       "      <td>0.867442</td>\n",
       "      <td>0.801570</td>\n",
       "      <td>0.741507</td>\n",
       "    </tr>\n",
       "    <tr>\n",
       "      <th>525</th>\n",
       "      <td>0.526</td>\n",
       "      <td>0.866958</td>\n",
       "      <td>0.801667</td>\n",
       "      <td>0.741334</td>\n",
       "    </tr>\n",
       "    <tr>\n",
       "      <th>524</th>\n",
       "      <td>0.525</td>\n",
       "      <td>0.866139</td>\n",
       "      <td>0.801807</td>\n",
       "      <td>0.741015</td>\n",
       "    </tr>\n",
       "    <tr>\n",
       "      <th>523</th>\n",
       "      <td>0.524</td>\n",
       "      <td>0.865916</td>\n",
       "      <td>0.801849</td>\n",
       "      <td>0.740932</td>\n",
       "    </tr>\n",
       "    <tr>\n",
       "      <th>522</th>\n",
       "      <td>0.523</td>\n",
       "      <td>0.865135</td>\n",
       "      <td>0.802086</td>\n",
       "      <td>0.740731</td>\n",
       "    </tr>\n",
       "    <tr>\n",
       "      <th>521</th>\n",
       "      <td>0.522</td>\n",
       "      <td>0.863693</td>\n",
       "      <td>0.802361</td>\n",
       "      <td>0.740198</td>\n",
       "    </tr>\n",
       "    <tr>\n",
       "      <th>520</th>\n",
       "      <td>0.521</td>\n",
       "      <td>0.861981</td>\n",
       "      <td>0.802665</td>\n",
       "      <td>0.739540</td>\n",
       "    </tr>\n",
       "    <tr>\n",
       "      <th>519</th>\n",
       "      <td>0.520</td>\n",
       "      <td>0.860660</td>\n",
       "      <td>0.802798</td>\n",
       "      <td>0.738931</td>\n",
       "    </tr>\n",
       "    <tr>\n",
       "      <th>518</th>\n",
       "      <td>0.519</td>\n",
       "      <td>0.859655</td>\n",
       "      <td>0.803192</td>\n",
       "      <td>0.738758</td>\n",
       "    </tr>\n",
       "    <tr>\n",
       "      <th>517</th>\n",
       "      <td>0.518</td>\n",
       "      <td>0.859301</td>\n",
       "      <td>0.803232</td>\n",
       "      <td>0.738598</td>\n",
       "    </tr>\n",
       "    <tr>\n",
       "      <th>516</th>\n",
       "      <td>0.517</td>\n",
       "      <td>0.858780</td>\n",
       "      <td>0.803331</td>\n",
       "      <td>0.738405</td>\n",
       "    </tr>\n",
       "    <tr>\n",
       "      <th>515</th>\n",
       "      <td>0.516</td>\n",
       "      <td>0.857906</td>\n",
       "      <td>0.803450</td>\n",
       "      <td>0.738031</td>\n",
       "    </tr>\n",
       "    <tr>\n",
       "      <th>514</th>\n",
       "      <td>0.515</td>\n",
       "      <td>0.856631</td>\n",
       "      <td>0.803573</td>\n",
       "      <td>0.737435</td>\n",
       "    </tr>\n",
       "    <tr>\n",
       "      <th>513</th>\n",
       "      <td>0.514</td>\n",
       "      <td>0.855347</td>\n",
       "      <td>0.803793</td>\n",
       "      <td>0.736930</td>\n",
       "    </tr>\n",
       "    <tr>\n",
       "      <th>512</th>\n",
       "      <td>0.513</td>\n",
       "      <td>0.854966</td>\n",
       "      <td>0.803821</td>\n",
       "      <td>0.736743</td>\n",
       "    </tr>\n",
       "    <tr>\n",
       "      <th>511</th>\n",
       "      <td>0.512</td>\n",
       "      <td>0.853859</td>\n",
       "      <td>0.803947</td>\n",
       "      <td>0.736244</td>\n",
       "    </tr>\n",
       "    <tr>\n",
       "      <th>510</th>\n",
       "      <td>0.511</td>\n",
       "      <td>0.853580</td>\n",
       "      <td>0.804008</td>\n",
       "      <td>0.736147</td>\n",
       "    </tr>\n",
       "    <tr>\n",
       "      <th>509</th>\n",
       "      <td>0.510</td>\n",
       "      <td>0.853021</td>\n",
       "      <td>0.804081</td>\n",
       "      <td>0.735905</td>\n",
       "    </tr>\n",
       "    <tr>\n",
       "      <th>508</th>\n",
       "      <td>0.509</td>\n",
       "      <td>0.851821</td>\n",
       "      <td>0.804382</td>\n",
       "      <td>0.735524</td>\n",
       "    </tr>\n",
       "    <tr>\n",
       "      <th>507</th>\n",
       "      <td>0.508</td>\n",
       "      <td>0.851458</td>\n",
       "      <td>0.804457</td>\n",
       "      <td>0.735392</td>\n",
       "    </tr>\n",
       "    <tr>\n",
       "      <th>506</th>\n",
       "      <td>0.507</td>\n",
       "      <td>0.850965</td>\n",
       "      <td>0.804564</td>\n",
       "      <td>0.735219</td>\n",
       "    </tr>\n",
       "    <tr>\n",
       "      <th>505</th>\n",
       "      <td>0.506</td>\n",
       "      <td>0.850072</td>\n",
       "      <td>0.804682</td>\n",
       "      <td>0.734831</td>\n",
       "    </tr>\n",
       "    <tr>\n",
       "      <th>504</th>\n",
       "      <td>0.505</td>\n",
       "      <td>0.847690</td>\n",
       "      <td>0.805164</td>\n",
       "      <td>0.733959</td>\n",
       "    </tr>\n",
       "    <tr>\n",
       "      <th>503</th>\n",
       "      <td>0.504</td>\n",
       "      <td>0.845913</td>\n",
       "      <td>0.805419</td>\n",
       "      <td>0.733204</td>\n",
       "    </tr>\n",
       "    <tr>\n",
       "      <th>502</th>\n",
       "      <td>0.503</td>\n",
       "      <td>0.844704</td>\n",
       "      <td>0.805702</td>\n",
       "      <td>0.732796</td>\n",
       "    </tr>\n",
       "    <tr>\n",
       "      <th>501</th>\n",
       "      <td>0.502</td>\n",
       "      <td>0.842499</td>\n",
       "      <td>0.806031</td>\n",
       "      <td>0.731868</td>\n",
       "    </tr>\n",
       "    <tr>\n",
       "      <th>500</th>\n",
       "      <td>0.501</td>\n",
       "      <td>0.841764</td>\n",
       "      <td>0.806211</td>\n",
       "      <td>0.731625</td>\n",
       "    </tr>\n",
       "  </tbody>\n",
       "</table>\n",
       "<p>499 rows × 4 columns</p>\n",
       "</div>"
      ],
      "text/plain": [
       "     Threshold  Precision    Recall  Accuracy\n",
       "725      0.726   0.958273  0.776690  0.763874\n",
       "739      0.740   0.961650  0.775184  0.763874\n",
       "741      0.742   0.961883  0.775081  0.763874\n",
       "740      0.741   0.961734  0.775135  0.763860\n",
       "727      0.728   0.958841  0.776418  0.763853\n",
       "738      0.739   0.961576  0.775199  0.763853\n",
       "743      0.744   0.962320  0.774858  0.763839\n",
       "747      0.748   0.963316  0.774418  0.763839\n",
       "729      0.730   0.959194  0.776237  0.763825\n",
       "736      0.737   0.961390  0.775253  0.763818\n",
       "742      0.743   0.962246  0.774868  0.763811\n",
       "728      0.729   0.959027  0.776282  0.763791\n",
       "746      0.747   0.963213  0.774423  0.763791\n",
       "745      0.746   0.963158  0.774441  0.763784\n",
       "724      0.725   0.957966  0.776752  0.763784\n",
       "737      0.738   0.961427  0.775207  0.763784\n",
       "744      0.745   0.963037  0.774489  0.763777\n",
       "719      0.720   0.956673  0.777310  0.763756\n",
       "732      0.733   0.960022  0.775809  0.763756\n",
       "726      0.727   0.958506  0.776481  0.763749\n",
       "723      0.724   0.957250  0.777044  0.763749\n",
       "718      0.719   0.956561  0.777337  0.763728\n",
       "731      0.732   0.959790  0.775889  0.763728\n",
       "722      0.723   0.957157  0.777063  0.763721\n",
       "721      0.722   0.957129  0.777075  0.763721\n",
       "720      0.721   0.956943  0.777159  0.763721\n",
       "730      0.731   0.959650  0.775940  0.763714\n",
       "712      0.713   0.954887  0.778076  0.763707\n",
       "715      0.716   0.956040  0.777542  0.763694\n",
       "717      0.718   0.956468  0.777338  0.763680\n",
       "..         ...        ...       ...       ...\n",
       "529      0.530   0.870577  0.801065  0.742753\n",
       "528      0.529   0.869917  0.801225  0.742546\n",
       "527      0.528   0.869182  0.801269  0.742179\n",
       "526      0.527   0.867442  0.801570  0.741507\n",
       "525      0.526   0.866958  0.801667  0.741334\n",
       "524      0.525   0.866139  0.801807  0.741015\n",
       "523      0.524   0.865916  0.801849  0.740932\n",
       "522      0.523   0.865135  0.802086  0.740731\n",
       "521      0.522   0.863693  0.802361  0.740198\n",
       "520      0.521   0.861981  0.802665  0.739540\n",
       "519      0.520   0.860660  0.802798  0.738931\n",
       "518      0.519   0.859655  0.803192  0.738758\n",
       "517      0.518   0.859301  0.803232  0.738598\n",
       "516      0.517   0.858780  0.803331  0.738405\n",
       "515      0.516   0.857906  0.803450  0.738031\n",
       "514      0.515   0.856631  0.803573  0.737435\n",
       "513      0.514   0.855347  0.803793  0.736930\n",
       "512      0.513   0.854966  0.803821  0.736743\n",
       "511      0.512   0.853859  0.803947  0.736244\n",
       "510      0.511   0.853580  0.804008  0.736147\n",
       "509      0.510   0.853021  0.804081  0.735905\n",
       "508      0.509   0.851821  0.804382  0.735524\n",
       "507      0.508   0.851458  0.804457  0.735392\n",
       "506      0.507   0.850965  0.804564  0.735219\n",
       "505      0.506   0.850072  0.804682  0.734831\n",
       "504      0.505   0.847690  0.805164  0.733959\n",
       "503      0.504   0.845913  0.805419  0.733204\n",
       "502      0.503   0.844704  0.805702  0.732796\n",
       "501      0.502   0.842499  0.806031  0.731868\n",
       "500      0.501   0.841764  0.806211  0.731625\n",
       "\n",
       "[499 rows x 4 columns]"
      ]
     },
     "execution_count": 79,
     "metadata": {},
     "output_type": "execute_result"
    }
   ],
   "source": [
    "rf_Result[rf_Result['Threshold']>0.5].sort_values(\"Accuracy\",ascending=False)"
   ]
  },
  {
   "cell_type": "code",
   "execution_count": 81,
   "metadata": {},
   "outputs": [],
   "source": [
    "import pickle\n",
    "# now you can save it to a file\n",
    "with open('finalmodel.pkl', 'wb') as f:\n",
    "    pickle.dump(rf, f)"
   ]
  },
  {
   "cell_type": "markdown",
   "metadata": {},
   "source": [
    "---------------------------- end ----------------------------------"
   ]
  },
  {
   "cell_type": "markdown",
   "metadata": {},
   "source": [
    "## MLP"
   ]
  },
  {
   "cell_type": "code",
   "execution_count": null,
   "metadata": {},
   "outputs": [],
   "source": [
    "#rf = DecisionTreeClassifier(max_features=200)\n",
    "#rf = RandomForestClassifier(n_estimators= 100,max_features=400, n_jobs= -1)\n",
    "from sklearn.neural_network import MLPClassifier\n",
    "\n",
    "clf = MLPClassifier(hidden_layer_sizes=(512, 256,128), random_state=1)\n",
    "\n",
    "clf.fit(X_train,y_train)                         \n",
    "#rf.fit(X_train,y_train,y_train+8)\n",
    "\n",
    "\n",
    "# #### Log Loss Random Forest1\n",
    "\n",
    "y_pred_rf1 =  clf.predict_proba(X_test)\n",
    "\n",
    "RF_Result = compute_prt(y_pred_rf1, y_test )"
   ]
  },
  {
   "cell_type": "code",
   "execution_count": null,
   "metadata": {},
   "outputs": [],
   "source": [
    "y_pred_rf1 =  clf.predict_proba(X_test)\n"
   ]
  },
  {
   "cell_type": "code",
   "execution_count": null,
   "metadata": {},
   "outputs": [],
   "source": [
    "y_pred = clf.predict(X_test)\n",
    "\n",
    "print(classification_report(y_test,y_pred))"
   ]
  },
  {
   "cell_type": "code",
   "execution_count": null,
   "metadata": {},
   "outputs": [],
   "source": [
    "\n",
    "\n",
    "# Compute fpr, tpr, thresholds and roc auc\n",
    "fpr, tpr, thresholds = roc_curve(y_test, y_pred_rf1[:,1])\n",
    "roc_auc = auc(fpr, tpr)\n",
    "#roc_auc=1\n",
    "# Plot ROC curve\n",
    "plt.figure(figsize=(8,8))\n",
    "plt.plot(fpr, tpr, label='ROC curve (area = %0.3f)' % roc_auc)\n",
    "plt.plot([0, 1], [0, 1], 'k--')  # random predictions curve\n",
    "plt.xlim([0.0, 1.0])\n",
    "plt.ylim([0.0, 1.0])\n",
    "plt.xlabel('False Positive Rate or (1 - Specifity)')\n",
    "plt.ylabel('True Positive Rate or (Sensitivity)')\n",
    "plt.title('Receiver Operating Characteristic')\n",
    "plt.legend(loc=\"lower right\")"
   ]
  },
  {
   "cell_type": "markdown",
   "metadata": {},
   "source": [
    "## Adaboost"
   ]
  },
  {
   "cell_type": "code",
   "execution_count": 22,
   "metadata": {},
   "outputs": [
    {
     "name": "stderr",
     "output_type": "stream",
     "text": [
      "/home/ec2-user/anaconda3/envs/python3/lib/python3.6/site-packages/ipykernel/__main__.py:22: RuntimeWarning: invalid value encountered in long_scalars\n"
     ]
    }
   ],
   "source": [
    "from sklearn.ensemble import AdaBoostClassifier\n",
    "\n",
    "clf = AdaBoostClassifier()\n",
    "\n",
    "clf.fit(X_train, y_train)                         \n",
    "#rf.fit(X_train,y_train,y_train+8)\n",
    "\n",
    "\n",
    "# #### Log Loss Random Forest1\n",
    "\n",
    "y_pred_rf1 =  clf.predict_proba(X_test)\n",
    "\n",
    "RF_Result = compute_prt(y_pred_rf1, y_test )"
   ]
  },
  {
   "cell_type": "code",
   "execution_count": 23,
   "metadata": {},
   "outputs": [
    {
     "name": "stdout",
     "output_type": "stream",
     "text": [
      "             precision    recall  f1-score   support\n",
      "\n",
      "          0       0.27      0.03      0.05      3722\n",
      "          1       0.97      1.00      0.99    140688\n",
      "\n",
      "avg / total       0.96      0.97      0.96    144410\n",
      "\n"
     ]
    }
   ],
   "source": [
    "y_pred = clf.predict(X_test)\n",
    "\n",
    "print(classification_report(y_test,y_pred))"
   ]
  },
  {
   "cell_type": "code",
   "execution_count": 26,
   "metadata": {},
   "outputs": [
    {
     "data": {
      "text/plain": [
       "<matplotlib.legend.Legend at 0x7fcff11153c8>"
      ]
     },
     "execution_count": 26,
     "metadata": {},
     "output_type": "execute_result"
    },
    {
     "data": {
      "image/png": "[encoded data removed]",
      "text/plain": [
       "<Figure size 576x576 with 1 Axes>"
      ]
     },
     "metadata": {},
     "output_type": "display_data"
    }
   ],
   "source": [
    "from sklearn.metrics import roc_curve\n",
    "from sklearn.metrics import auc\n",
    "\n",
    "# Compute fpr, tpr, thresholds and roc auc\n",
    "fpr, tpr, thresholds = roc_curve(y_test, y_pred_rf1[:,1])\n",
    "roc_auc = auc(fpr, tpr)\n",
    "#roc_auc=1\n",
    "# Plot ROC curve\n",
    "plt.figure(figsize=(8,8))\n",
    "plt.plot(fpr, tpr, label='ROC curve (area = %0.3f)' % roc_auc)\n",
    "plt.plot([0, 1], [0, 1], 'k--')  # random predictions curve\n",
    "plt.xlim([0.0, 1.0])\n",
    "plt.ylim([0.0, 1.0])\n",
    "plt.xlabel('False Positive Rate or (1 - Specifity)')\n",
    "plt.ylabel('True Positive Rate or (Sensitivity)')\n",
    "plt.title('Receiver Operating Characteristic')\n",
    "plt.legend(loc=\"lower right\")"
   ]
  }
 ],
 "metadata": {
  "kernelspec": {
   "display_name": "conda_python3",
   "language": "python",
   "name": "conda_python3"
  },
  "language_info": {
   "codemirror_mode": {
    "name": "ipython",
    "version": 3
   },
   "file_extension": ".py",
   "mimetype": "text/x-python",
   "name": "python",
   "nbconvert_exporter": "python",
   "pygments_lexer": "ipython3",
   "version": "3.6.5"
  },
  "varInspector": {
   "cols": {
    "lenName": 16,
    "lenType": 16,
    "lenVar": 40
   },
   "kernels_config": {
    "python": {
     "delete_cmd_postfix": "",
     "delete_cmd_prefix": "del ",
     "library": "var_list.py",
     "varRefreshCmd": "print(var_dic_list())"
    },
    "r": {
     "delete_cmd_postfix": ") ",
     "delete_cmd_prefix": "rm(",
     "library": "var_list.r",
     "varRefreshCmd": "cat(var_dic_list()) "
    }
   },
   "types_to_exclude": [
    "module",
    "function",
    "builtin_function_or_method",
    "instance",
    "_Feature"
   ],
   "window_display": false
  }
 },
 "nbformat": 4,
 "nbformat_minor": 2
}
